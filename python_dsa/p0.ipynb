{
 "cells": [
  {
   "cell_type": "code",
   "execution_count": 12,
   "id": "ea5eb090",
   "metadata": {},
   "outputs": [
    {
     "name": "stdout",
     "output_type": "stream",
     "text": [
      "Namste Suyash !! \n",
      "How are you? \n",
      "Welcome to Qspiders\n"
     ]
    }
   ],
   "source": [
    "print(\"Namste Suyash !! \\nHow are you? \\nWelcome to Qspiders\")"
   ]
  },
  {
   "cell_type": "code",
   "execution_count": 5,
   "id": "212832b4",
   "metadata": {},
   "outputs": [
    {
     "name": "stdout",
     "output_type": "stream",
     "text": [
      "Enter number is 5783\n",
      "Last Digit is 3\n",
      "Last Two Digit is 83\n",
      "After Remove last digit, Number is 578\n",
      "After Removes last two digits,  Number is 57\n"
     ]
    }
   ],
   "source": [
    "# \"\"\"\n",
    "# For a given number int n = 5783\n",
    "# a. Print last digit of number\n",
    "# b. print last two digit of number\n",
    "# c. remove last digit of number\n",
    "# d. remove last two digit of number \n",
    "# \"\"\"\n",
    "\n",
    "num = int(input(\"Enter the number :\"))\n",
    "print(f\"Enter number is {num}\")\n",
    "\n",
    "#a. Print last digit of number\n",
    "print(f\"Last Digit is {num % 10}\")\n",
    "#b. print last two digit of number\n",
    "print(f\"Last Two Digit is {num % 100}\")\n",
    "#c. remove last digit of number\n",
    "print(f\"After Remove last digit, Number is {num // 10}\")\n",
    "#d. remove last two digit of number \n",
    "print(f\"After Removes last two digits,  Number is {num // 100}\")\n"
   ]
  },
  {
   "cell_type": "code",
   "execution_count": null,
   "id": "d6fc34c8",
   "metadata": {},
   "outputs": [
    {
     "name": "stdout",
     "output_type": "stream",
     "text": [
      "Actual Number is - 5783\n",
      "Digits are (right to left) :- \n",
      "3 8 7 5 "
     ]
    }
   ],
   "source": [
    "\n",
    "#     For given number n = 5783\n",
    "#     print each digits one by one from right to left\n",
    "#     Output :-\n",
    "#     3\n",
    "#     8\n",
    "#     7\n",
    "#     5\n",
    "\n",
    "\n",
    "num = int(input(\"Enter the Number :\"))\n",
    "print(f\"Actual Number is - {num}\")\n",
    "print(\"Digits are (right to left) :- \")\n",
    "while num>0:\n",
    "    d = num%10\n",
    "    print(d,end=\" \")\n",
    "    num//=10\n"
   ]
  },
  {
   "cell_type": "code",
   "execution_count": null,
   "id": "8e1d1711",
   "metadata": {},
   "outputs": [
    {
     "name": "stdout",
     "output_type": "stream",
     "text": [
      "Actual Number is - 5783\n",
      "Digits are (left to right) :- \n",
      "5 7 8 3 "
     ]
    }
   ],
   "source": [
    "#     For given number n = 5783\n",
    "#     print each digits one by one from left to right\n",
    "#     Output :-\n",
    "#     5\n",
    "#     7\n",
    "#     8\n",
    "#     3\n",
    "\n",
    "\n",
    "num = int(input(\"Enter the Number :\"))\n",
    "print(f\"Actual Number is - {num}\")\n",
    "print(\"Digits are (left to right) :- \")\n",
    "p = len(str(num))\n",
    "while p > 0:\n",
    "    fd = num // 10**(p-1)\n",
    "    print(f\"{fd}\",end=\" \")\n",
    "    num = num % 10**(p-1)\n",
    "    p -= 1\n"
   ]
  },
  {
   "cell_type": "code",
   "execution_count": null,
   "id": "2eb66bb8",
   "metadata": {},
   "outputs": [
    {
     "name": "stdout",
     "output_type": "stream",
     "text": [
      "Print before swapping \n",
      "a = 12 & b = 13\n",
      "Print After swapping \n",
      "a = 13 & b = 12\n"
     ]
    }
   ],
   "source": [
    "# Write python program to swap two numbers\n",
    "# a. Using third variable\n",
    "\n",
    "\n",
    "a = int(input(\"Enter the first num :\"))\n",
    "b = int(input(\"Enter the second num :\"))\n",
    "print(f\"Print before swapping \\na = {a} & b = {b}\")\n",
    "\n",
    "temp = a \n",
    "a = b \n",
    "b = temp\n",
    "print(f\"Print After swapping \\na = {a} & b = {b}\")\n",
    "\n",
    "\n",
    "\n"
   ]
  },
  {
   "cell_type": "code",
   "execution_count": 2,
   "id": "fd97879f",
   "metadata": {},
   "outputs": [
    {
     "name": "stdout",
     "output_type": "stream",
     "text": [
      "Print before swapping \n",
      "a = 12 & b = 123\n",
      "Print After swapping \n",
      "a = 123 & b = 12\n"
     ]
    }
   ],
   "source": [
    "# Write python program to swap two numbers\n",
    "# b. Without Using third variable\n",
    "\n",
    "a = int(input(\"Enter the first num :\"))\n",
    "b = int(input(\"Enter the second num :\"))\n",
    "print(f\"Print before swapping \\na = {a} & b = {b}\")\n",
    "\n",
    "a,b = b,a\n",
    "\n",
    "print(f\"Print After swapping \\na = {a} & b = {b}\")"
   ]
  },
  {
   "cell_type": "code",
   "execution_count": null,
   "id": "b8885c1f",
   "metadata": {},
   "outputs": [
    {
     "name": "stdout",
     "output_type": "stream",
     "text": [
      "Print before swapping \n",
      "a = 12 & b = 13\n",
      "Print After swapping \n",
      "a = 13 & b = 12\n"
     ]
    }
   ],
   "source": [
    "# Write python program to swap two numbers\n",
    "# b. Without Using third variable\n",
    "\n",
    "a = int(input(\"Enter the first num :\"))\n",
    "b = int(input(\"Enter the second num :\"))\n",
    "print(f\"Print before swapping \\na = {a} & b = {b}\")\n",
    "\n",
    "a = a + b\n",
    "b = a - b\n",
    "a = a - b\n",
    "\n",
    "print(f\"Print After swapping \\na = {a} & b = {b}\")"
   ]
  },
  {
   "cell_type": "code",
   "execution_count": 9,
   "id": "7f53f7e4",
   "metadata": {},
   "outputs": [
    {
     "name": "stdout",
     "output_type": "stream",
     "text": [
      "Print before swapping \n",
      "a = 1 , b = 2 &  c = 3 \n",
      "Print After swapping \n",
      "a = 3 , b = 1 &  c = 2 \n"
     ]
    }
   ],
   "source": [
    "# For given three numbers swap 1st into 2nd , 2nd into 3rd and 3rd into 1st num.\n",
    "# a. with using fourth variable\n",
    "\n",
    "a = int(input(\"Enter the first num :\"))\n",
    "b = int(input(\"Enter the second num :\"))\n",
    "c = int(input(\"Enter the third num :\"))\n",
    "print(f\"Print before swapping \\na = {a} , b = {b} &  c = {c} \")\n",
    "\n",
    "temp = a\n",
    "a = c\n",
    "c = b\n",
    "b = temp\n",
    "\n",
    "\n",
    "print(f\"Print After swapping \\na = {a} , b = {b} &  c = {c} \")\n"
   ]
  },
  {
   "cell_type": "code",
   "execution_count": 7,
   "id": "af2a3b80",
   "metadata": {},
   "outputs": [
    {
     "name": "stdout",
     "output_type": "stream",
     "text": [
      "Print before swapping \n",
      "a = 1 , b = 2 &  c = 3 \n",
      "Print After swapping \n",
      "a = 3 , b = 1 &  c = 2 \n"
     ]
    }
   ],
   "source": [
    "# For given three numbers swap 1st into 2nd , 2nd into 3rd and 3rd into 1st num.\n",
    "# b. Without using fourth variable\n",
    "a = int(input(\"Enter the first num :\"))\n",
    "b = int(input(\"Enter the second num :\"))\n",
    "c = int(input(\"Enter the third num :\"))\n",
    "print(f\"Print before swapping \\na = {a} , b = {b} &  c = {c} \")\n",
    "\n",
    "a,b,c = c,a,b\n",
    "\n",
    "print(f\"Print After swapping \\na = {a} , b = {b} &  c = {c} \")\n"
   ]
  },
  {
   "cell_type": "code",
   "execution_count": null,
   "id": "6bb8d672",
   "metadata": {},
   "outputs": [],
   "source": [
    "# For given three numbers swap 1st into 2nd , 2nd into 3rd and 3rd into 1st num.\n",
    "# b. Without using fourth variable\n",
    "# a = int(input(\"Enter the first num :\"))\n",
    "# b = int(input(\"Enter the second num :\"))\n",
    "# c = int(input(\"Enter the third num :\"))\n",
    "# print(f\"Print before swapping \\na = {a} , b = {b} &  c = {c} \")\n",
    "\n",
    "# a = a + b + c\n",
    "# b = a- ( )\n",
    "\n",
    "# print(f\"Print After swapping \\na = {a} , b = {b} &  c = {c} \")"
   ]
  },
  {
   "cell_type": "code",
   "execution_count": 12,
   "id": "68e4408b",
   "metadata": {},
   "outputs": [
    {
     "name": "stdout",
     "output_type": "stream",
     "text": [
      "Profit percentage : 16.666666666666664 %\n"
     ]
    }
   ],
   "source": [
    "# for the given cp and sp . Calculate % Profit. \n",
    "# cp = 120 \n",
    "# sp = 160\n",
    "\n",
    "cp = int(input(\"Enter the Cost Price :\"))\n",
    "sp = int(input(\"Enter the Selling Price :\"))\n",
    "\n",
    "profit = sp - cp\n",
    "\n",
    "profit_per = (profit/cp) * 100\n",
    "\n",
    "print(f\"Profit percentage : {profit_per} %\")"
   ]
  },
  {
   "cell_type": "code",
   "execution_count": null,
   "id": "74b32969",
   "metadata": {},
   "outputs": [
    {
     "name": "stdout",
     "output_type": "stream",
     "text": [
      "Profit percentage : 25.0 %\n"
     ]
    }
   ],
   "source": [
    "# for the given cp and sp . Calculate % Profit. \n",
    "# cp = 120 \n",
    "# sp = 90\n",
    "cp = int(input(\"Enter the Cost Price :\"))\n",
    "sp = int(input(\"Enter the Selling Price :\"))\n",
    "\n",
    "loss = cp - sp\n",
    "\n",
    "loss_per = (loss/cp) * 100\n",
    "\n",
    "print(f\"Loss percentage : {loss_per} %\")"
   ]
  },
  {
   "cell_type": "code",
   "execution_count": 18,
   "id": "b714a49e",
   "metadata": {},
   "outputs": [
    {
     "name": "stdout",
     "output_type": "stream",
     "text": [
      "Last Digits : 5\n"
     ]
    }
   ],
   "source": [
    "# find last digit of a number without using % operator\n",
    "# n=12345\n",
    "# output = 5\n",
    "\n",
    "n =int(input(\"Enter the number :\"))\n",
    "n -= (n//10)*10\n",
    "print(\"Last Digits :\",n)\n"
   ]
  },
  {
   "cell_type": "code",
   "execution_count": 19,
   "id": "bf7ea7b1",
   "metadata": {},
   "outputs": [
    {
     "name": "stdout",
     "output_type": "stream",
     "text": [
      "Last Digits : 5\n"
     ]
    }
   ],
   "source": [
    "\n",
    "# find last digit of a number without using % operator\n",
    "# n=12345\n",
    "# output = 5\n",
    "\n",
    "n =int(input(\"Enter the number :\"))\n",
    "a = str(n)\n",
    "print(\"Last Digits :\",a[-1])"
   ]
  },
  {
   "cell_type": "code",
   "execution_count": null,
   "id": "76c6077f",
   "metadata": {},
   "outputs": [
    {
     "name": "stdout",
     "output_type": "stream",
     "text": [
      "Reversed number :  321\n"
     ]
    }
   ],
   "source": [
    "# Reverse a 3-Digit Number Using Pure\n",
    "# Arithmetic operator.\n",
    "# Int n=123;\n",
    "# Output:\n",
    "# 321\n",
    "\n",
    "num = int(input(\"Enter the number :\"))\n",
    "rev = 0\n",
    "while num > 0 :\n",
    "    ld = num%10\n",
    "    rev = rev*10 + ld \n",
    "    num //= 10\n",
    "print(\"Reversed number : \", rev)"
   ]
  },
  {
   "cell_type": "code",
   "execution_count": 25,
   "id": "127a60f7",
   "metadata": {},
   "outputs": [
    {
     "name": "stdout",
     "output_type": "stream",
     "text": [
      "Sum of each digit : 6\n"
     ]
    }
   ],
   "source": [
    "# Find Sum of three Digit number Without using\n",
    "# Loops\n",
    "# Int n=123;\n",
    "# Output:\n",
    "# 6\n",
    "\n",
    "n = 123\n",
    "a = str(n)\n",
    "\n",
    "print(f\"Sum of each digit : {int(a[0])+int(a[1])+int(a[2])}\")"
   ]
  },
  {
   "cell_type": "code",
   "execution_count": null,
   "id": "40e16fd8",
   "metadata": {},
   "outputs": [
    {
     "name": "stdout",
     "output_type": "stream",
     "text": [
      "Evaluate the Expression 5.0\n"
     ]
    }
   ],
   "source": [
    "# Evaluate the Expression:\n",
    "#  x = 5 / 2 * 2;\n",
    "n = x = 5 / 2 * 2\n",
    "print(\"Evaluate the Expression\",n)"
   ]
  },
  {
   "cell_type": "code",
   "execution_count": null,
   "id": "1af42930",
   "metadata": {},
   "outputs": [
    {
     "name": "stdout",
     "output_type": "stream",
     "text": [
      "Evaluate the Expression 5.0\n"
     ]
    }
   ],
   "source": [
    "# Evaluate the Expression:\n",
    "#  x = 5 * 2 / 2;\n",
    "\n",
    "n = 5 * 2 / 2\n",
    "print(\"Evaluate the Expression\",n)\n"
   ]
  },
  {
   "cell_type": "code",
   "execution_count": null,
   "id": "03d26df8",
   "metadata": {},
   "outputs": [
    {
     "name": "stdout",
     "output_type": "stream",
     "text": [
      "Evaluate the Expression 2.5\n"
     ]
    }
   ],
   "source": [
    "# Evaluate the Expression:\n",
    "#  x = 1 + 2 * 3 / 4;\n",
    "n =  1 + 2 * 3 / 4\n",
    "print(\"Evaluate the Expression\",n)"
   ]
  },
  {
   "cell_type": "code",
   "execution_count": null,
   "id": "7d42baec",
   "metadata": {},
   "outputs": [],
   "source": [
    "# Evaluate the Expression:\n",
    "#  x = 1 + 2 / 3 * 4\n",
    "\n",
    "n =  1 + 2 / 3 * 4\n",
    "print(\"Evaluate the Expression\",n)"
   ]
  },
  {
   "cell_type": "code",
   "execution_count": null,
   "id": "4096395c",
   "metadata": {},
   "outputs": [
    {
     "name": "stdout",
     "output_type": "stream",
     "text": [
      "Evaluate the Expression 2.0\n"
     ]
    }
   ],
   "source": [
    "# Evaluate the Expression:\n",
    "# x = 100 / 10 * 2 % 3\n",
    "n =  100 / 10 * 2 % 3\n",
    "print(\"Evaluate the Expression\",n)"
   ]
  },
  {
   "cell_type": "code",
   "execution_count": null,
   "id": "3f5cfcc9",
   "metadata": {},
   "outputs": [
    {
     "data": {
      "text/plain": [
       "2"
      ]
     },
     "execution_count": 33,
     "metadata": {},
     "output_type": "execute_result"
    }
   ],
   "source": []
  },
  {
   "cell_type": "code",
   "execution_count": null,
   "id": "a3e41742",
   "metadata": {},
   "outputs": [],
   "source": []
  },
  {
   "cell_type": "code",
   "execution_count": null,
   "id": "29ac007e",
   "metadata": {},
   "outputs": [],
   "source": []
  },
  {
   "cell_type": "code",
   "execution_count": null,
   "id": "a2f57d18",
   "metadata": {},
   "outputs": [],
   "source": []
  },
  {
   "cell_type": "code",
   "execution_count": null,
   "id": "26e489ca",
   "metadata": {},
   "outputs": [],
   "source": []
  },
  {
   "cell_type": "code",
   "execution_count": null,
   "id": "d7ed2bb0",
   "metadata": {},
   "outputs": [],
   "source": []
  },
  {
   "cell_type": "code",
   "execution_count": null,
   "id": "a6045239",
   "metadata": {},
   "outputs": [],
   "source": []
  },
  {
   "cell_type": "code",
   "execution_count": null,
   "id": "b9dc7766",
   "metadata": {},
   "outputs": [],
   "source": []
  },
  {
   "cell_type": "code",
   "execution_count": null,
   "id": "e627dbdb",
   "metadata": {},
   "outputs": [],
   "source": []
  },
  {
   "cell_type": "code",
   "execution_count": null,
   "id": "484862fe",
   "metadata": {},
   "outputs": [],
   "source": []
  },
  {
   "cell_type": "code",
   "execution_count": null,
   "id": "a323a7f3",
   "metadata": {},
   "outputs": [],
   "source": []
  },
  {
   "cell_type": "code",
   "execution_count": null,
   "id": "c48c1426",
   "metadata": {},
   "outputs": [],
   "source": []
  },
  {
   "cell_type": "code",
   "execution_count": null,
   "id": "6008e53c",
   "metadata": {},
   "outputs": [
    {
     "name": "stdout",
     "output_type": "stream",
     "text": [
      "Otp = 2559\n",
      "not login.\n",
      "Login done\n"
     ]
    }
   ],
   "source": [
    "# otp generator\n",
    "import random\n",
    "\n",
    "otp = random.randint(1000, 9999)\n",
    "print(\"Otp =\",otp)\n",
    "\n",
    "while True:\n",
    "    l =int(input(\"Enter the the otp :\"))\n",
    "    if l==otp:\n",
    "        print(\"Login done\")\n",
    "        break\n",
    "    else :\n",
    "        print(\"not login.\")\n"
   ]
  },
  {
   "cell_type": "code",
   "execution_count": null,
   "id": "f80572ef",
   "metadata": {},
   "outputs": [],
   "source": []
  }
 ],
 "metadata": {
  "kernelspec": {
   "display_name": "Python 3",
   "language": "python",
   "name": "python3"
  },
  "language_info": {
   "codemirror_mode": {
    "name": "ipython",
    "version": 3
   },
   "file_extension": ".py",
   "mimetype": "text/x-python",
   "name": "python",
   "nbconvert_exporter": "python",
   "pygments_lexer": "ipython3",
   "version": "3.13.1"
  }
 },
 "nbformat": 4,
 "nbformat_minor": 5
}
