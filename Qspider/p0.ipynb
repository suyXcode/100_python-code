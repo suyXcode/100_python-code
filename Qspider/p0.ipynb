{
 "cells": [
  {
   "cell_type": "code",
   "execution_count": 1,
   "id": "2f3b8055",
   "metadata": {},
   "outputs": [
    {
     "name": "stdout",
     "output_type": "stream",
     "text": [
      "1\n",
      "2\n",
      "3\n"
     ]
    }
   ],
   "source": [
    "# 1.Wap to print n natural numbers\n",
    "\n",
    "n=int(input(\"Enter the num:\"))\n",
    "for i in range(1,n+1):\n",
    "    print(i)\n",
    "\n"
   ]
  },
  {
   "cell_type": "code",
   "execution_count": 2,
   "id": "c47d1884",
   "metadata": {},
   "outputs": [
    {
     "name": "stdout",
     "output_type": "stream",
     "text": [
      "10\n",
      "9\n",
      "8\n",
      "7\n",
      "6\n",
      "5\n",
      "4\n",
      "3\n",
      "2\n",
      "1\n"
     ]
    }
   ],
   "source": [
    "# 2.Wap to print n natural numbers in reverse order.\n",
    "n=int(input(\"Enter the num:\"))\n",
    "for i in range(n,0,-1):\n",
    "    print(i)"
   ]
  },
  {
   "cell_type": "code",
   "execution_count": 3,
   "id": "64d5a6e7",
   "metadata": {},
   "outputs": [
    {
     "name": "stdout",
     "output_type": "stream",
     "text": [
      "1\n",
      "2\n",
      "3\n"
     ]
    }
   ],
   "source": [
    "# 3.Wap to print natural numbers in a given range\n",
    "start = int(input(\"Enter The start num:\"))\n",
    "end = int(input(\"Enter The end num:\"))\n",
    "for i in range(start,end+1):\n",
    "    print(i)"
   ]
  },
  {
   "cell_type": "code",
   "execution_count": 5,
   "id": "ec7a9f14",
   "metadata": {},
   "outputs": [
    {
     "name": "stdout",
     "output_type": "stream",
     "text": [
      "1 ------- suy\n",
      "2 ------- suy\n",
      "3 ------- suy\n",
      "4 ------- suy\n",
      "5 ------- suy\n",
      "6 ------- suy\n",
      "7 ------- suy\n",
      "8 ------- suy\n",
      "9 ------- suy\n",
      "10 ------- suy\n"
     ]
    }
   ],
   "source": [
    "# 4.Wap to print user name 10 times\n",
    "user=input(\"Enter The user name:\")\n",
    "for i in range(1,11):\n",
    "    print(i,\"-------\",user)"
   ]
  },
  {
   "cell_type": "code",
   "execution_count": 6,
   "id": "1297500a",
   "metadata": {},
   "outputs": [
    {
     "name": "stdout",
     "output_type": "stream",
     "text": [
      "23 X 1 = 23\n",
      "23 X 2 = 46\n",
      "23 X 3 = 69\n",
      "23 X 4 = 92\n",
      "23 X 5 = 115\n",
      "23 X 6 = 138\n",
      "23 X 7 = 161\n",
      "23 X 8 = 184\n",
      "23 X 9 = 207\n",
      "23 X 10 = 230\n"
     ]
    }
   ],
   "source": [
    "# 5.Wap to print the multiplication table.\n",
    "num=int(input(\"Enter The int num:\"))\n",
    "for i in range(1,11):\n",
    "    print(num,\"X\",i,\"=\",num*i)"
   ]
  },
  {
   "cell_type": "code",
   "execution_count": 7,
   "id": "b45d6212",
   "metadata": {},
   "outputs": [
    {
     "name": "stdout",
     "output_type": "stream",
     "text": [
      "2\n",
      "4\n",
      "6\n",
      "8\n",
      "10\n",
      "12\n",
      "14\n",
      "16\n",
      "18\n",
      "20\n",
      "22\n",
      "24\n"
     ]
    }
   ],
   "source": [
    "# 6.Wap to print n natural even numbers.\n",
    "n=int(input(\"Enter The int num:\"))\n",
    "for i in range(2,n*2+1,2):\n",
    "    print(i)\n",
    "    "
   ]
  },
  {
   "cell_type": "code",
   "execution_count": 8,
   "id": "dd95094c",
   "metadata": {},
   "outputs": [
    {
     "name": "stdout",
     "output_type": "stream",
     "text": [
      "1\n",
      "3\n"
     ]
    }
   ],
   "source": [
    "# 7.Wap to print n natural odd numbers.\n",
    "\n",
    "\n",
    "n = int(input(\"Enter how many odd numbers you want: \"))\n",
    "for i in range(1, n*2, 2):\n",
    "    print(i)"
   ]
  },
  {
   "cell_type": "code",
   "execution_count": 12,
   "id": "354504b4",
   "metadata": {},
   "outputs": [
    {
     "name": "stdout",
     "output_type": "stream",
     "text": [
      "1\n",
      "2\n",
      "3\n",
      "4\n",
      "5\n",
      "6\n",
      "7\n",
      "8\n",
      "9\n",
      "11\n"
     ]
    }
   ],
   "source": [
    "# 8.Wap to print n natural palindrome numbers\n",
    "n = int(input(\"Enter Number: \"))\n",
    "for i in range(1, n*2+1):\n",
    "    if str(i) == str(i)[::-1]:\n",
    "        print(i)\n"
   ]
  },
  {
   "cell_type": "code",
   "execution_count": 14,
   "id": "a569a61a",
   "metadata": {},
   "outputs": [
    {
     "name": "stdout",
     "output_type": "stream",
     "text": [
      "The sum of first 12 natural numbers is: 78\n"
     ]
    }
   ],
   "source": [
    "# 9.Wap to print the sum of n natural number\n",
    "n=int(input(\"Enter The int num:\"))\n",
    "sum=0\n",
    "for i in range(1,n+1):\n",
    "    sum=sum+i\n",
    "print(\"The sum of first\",n,\"natural numbers is:\",sum)"
   ]
  },
  {
   "cell_type": "code",
   "execution_count": 16,
   "id": "169332cd",
   "metadata": {},
   "outputs": [
    {
     "name": "stdout",
     "output_type": "stream",
     "text": [
      "The product of first 5 natural numbers is: 120\n"
     ]
    }
   ],
   "source": [
    "# 10.Wap to print product of n natural numbers.\n",
    "\n",
    "n=int(input(\"Enter The int num:\"))\n",
    "product=1\n",
    "for i in range(1,n+1):\n",
    "    product=product*i   \n",
    "print(\"The product of first\",n,\"natural numbers is:\",product)"
   ]
  },
  {
   "cell_type": "code",
   "execution_count": 17,
   "id": "72f67f9d",
   "metadata": {},
   "outputs": [
    {
     "name": "stdout",
     "output_type": "stream",
     "text": [
      "The factorial of 5 is: 120\n"
     ]
    }
   ],
   "source": [
    "# 11.Wap to print factorial a number.\n",
    "\n",
    "num=int(input(\"Enter The int num:\"))\n",
    "factorial=1\n",
    "for i in range(1,num+1):\n",
    "    factorial=factorial*i\n",
    "print(\"The factorial of\",num,\"is:\",factorial)"
   ]
  },
  {
   "cell_type": "code",
   "execution_count": null,
   "id": "f955ada2",
   "metadata": {},
   "outputs": [
    {
     "name": "stdout",
     "output_type": "stream",
     "text": [
      "3\n",
      "2\n",
      "1\n"
     ]
    }
   ],
   "source": [
    "# 12.Wap to print the digits of a number\n",
    "\n",
    "num = int(input(\"Enter a number: \"))\n",
    "\n",
    "for digit in range(len(str(num))):\n",
    "    print(num%10)\n",
    "    num=num//10"
   ]
  },
  {
   "cell_type": "code",
   "execution_count": 24,
   "id": "ebf38bd5",
   "metadata": {},
   "outputs": [
    {
     "name": "stdout",
     "output_type": "stream",
     "text": [
      "The sum of digits is: 6\n"
     ]
    }
   ],
   "source": [
    "# 13.Wap to find the sum of digits of a number.\n",
    "num = int(input(\"Enter a number: \"))\n",
    "sum=0\n",
    "for digit in range(len(str(num))):\n",
    "    sum=sum+num%10\n",
    "    num=num//10\n",
    "print(\"The sum of digits is:\",sum)"
   ]
  },
  {
   "cell_type": "code",
   "execution_count": 25,
   "id": "ca2ba307",
   "metadata": {},
   "outputs": [
    {
     "name": "stdout",
     "output_type": "stream",
     "text": [
      "The product of digits is: 6\n"
     ]
    }
   ],
   "source": [
    "# 14.Wap to find the product of digits of a number.\n",
    "num = int(input(\"Enter a number: \"))\n",
    "product=1\n",
    "for digit in range(len(str(num))):\n",
    "    product=product*(num%10)\n",
    "    num=num//10\n",
    "print(\"The product of digits is:\",product)"
   ]
  },
  {
   "cell_type": "code",
   "execution_count": 26,
   "id": "ad84d19c",
   "metadata": {},
   "outputs": [
    {
     "name": "stdout",
     "output_type": "stream",
     "text": [
      "The reverse is: 321\n"
     ]
    }
   ],
   "source": [
    "#15.Wap to reverse a number without using slicing\n",
    "\n",
    "num = int(input(\"Enter a number: \"))\n",
    "reverse = 0\n",
    "for digit in range(len(str(num))):\n",
    "    ld = num % 10\n",
    "    reverse = (reverse * 10) + ld\n",
    "    num = num // 10\n",
    "print(\"The reverse is:\", reverse)"
   ]
  },
  {
   "cell_type": "code",
   "execution_count": 27,
   "id": "1600ec2a",
   "metadata": {},
   "outputs": [
    {
     "name": "stdout",
     "output_type": "stream",
     "text": [
      "The reverse is: 543\n"
     ]
    }
   ],
   "source": [
    "# 16.Wap to reverse a number without using type casting and slicing.\n",
    "\n",
    "num = int(input(\"Enter a number: \"))\n",
    "reverse = 0\n",
    "for digit in range(len(str(num))):\n",
    "    ld = num % 10\n",
    "    reverse = (reverse * 10) + ld\n",
    "    num = num // 10\n",
    "print(\"The reverse is:\", reverse)"
   ]
  },
  {
   "cell_type": "code",
   "execution_count": 29,
   "id": "26ad7e88",
   "metadata": {},
   "outputs": [
    {
     "name": "stdout",
     "output_type": "stream",
     "text": [
      "The number of zeros is: 1\n"
     ]
    }
   ],
   "source": [
    "# 17.Wap to count the no. of zeros present in a number\n",
    "num = int(input(\"Enter a number: \"))\n",
    "count=0\n",
    "for digit in range(len(str(num))):\n",
    "    if num%10==0:\n",
    "        count=count+1\n",
    "    num=num//10\n",
    "print(\"The number of zeros is:\", count)"
   ]
  },
  {
   "cell_type": "code",
   "execution_count": 33,
   "id": "ccc1f321",
   "metadata": {},
   "outputs": [
    {
     "name": "stdout",
     "output_type": "stream",
     "text": [
      "Factors of the  6 are:\n",
      "1 2 3 6 "
     ]
    }
   ],
   "source": [
    "# 18.Wap to print the factors of a number.\n",
    "num=int(input(\"Enter The int num:\"))\n",
    "print(\"Factors of the \",num,\"are:\")\n",
    "for i in range(1,num+1):\n",
    "    if num%i==0:\n",
    "        print(i, end=' ')"
   ]
  },
  {
   "cell_type": "code",
   "execution_count": 6,
   "id": "afe841b7",
   "metadata": {},
   "outputs": [
    {
     "name": "stdout",
     "output_type": "stream",
     "text": [
      "49 is not a prime number\n"
     ]
    }
   ],
   "source": [
    "# 19.Wap check the no. is prime or not\n",
    "num=int(input(\"Enter The int num:\"))\n",
    "if num>1:\n",
    "    for i in range(2,num):\n",
    "        if num%i==0:\n",
    "            print(num,\"is not a prime number\")\n",
    "            break\n",
    "    else:\n",
    "        print(num,\"is a prime number\")  \n",
    "else:\n",
    "    print(num,\"is not a prime number\")\n"
   ]
  },
  {
   "cell_type": "code",
   "execution_count": 7,
   "id": "bcc36e22",
   "metadata": {},
   "outputs": [
    {
     "name": "stdout",
     "output_type": "stream",
     "text": [
      "The number 153 is Armstrong number.\n"
     ]
    }
   ],
   "source": [
    "# 20. WAP to check the number is Armstrong number or not (e.g., 153, 370)\n",
    "num = int(input(\"Enter the int num: \"))\n",
    "a = num\n",
    "sum = 0\n",
    "p = len(str(num))  \n",
    "\n",
    "for i in str(num):   \n",
    "    sum = sum + (int(i) ** p)\n",
    "\n",
    "if sum == a:\n",
    "    print(f\"The number {a} is Armstrong number.\")\n",
    "else:\n",
    "    print(f\"The number {a} is not Armstrong number\")\n"
   ]
  },
  {
   "cell_type": "code",
   "execution_count": 4,
   "id": "bbeb069b",
   "metadata": {},
   "outputs": [
    {
     "name": "stdout",
     "output_type": "stream",
     "text": [
      "The number 36 is Harshad number\n"
     ]
    }
   ],
   "source": [
    "# 22.Wap to check the given number is a Harshad no. or not #36,18,132\n",
    "\n",
    "n=int(input(\"enter the num: \"))\n",
    "sum=0\n",
    "for i in str(n):\n",
    "    sum= sum + int(i)\n",
    "if n%sum==0:\n",
    "    print(f\"The number {n} is Harshad number\")\n",
    "else:\n",
    "    print(f\"The number {n} is not Harshad number\")"
   ]
  },
  {
   "cell_type": "code",
   "execution_count": 5,
   "id": "27e528aa",
   "metadata": {},
   "outputs": [
    {
     "name": "stdout",
     "output_type": "stream",
     "text": [
      "The number 123 is Spy number\n"
     ]
    }
   ],
   "source": [
    "# 23.Check the given no.is spy number or not. #1124,123,22\n",
    "\n",
    "n=int(input(\"enter the num: \"))\n",
    "sum = 0\n",
    "pro = 1\n",
    "for i in str(n):\n",
    "    sum = sum + int(i)\n",
    "    pro = pro * int(i)\n",
    "if sum==pro:\n",
    "    print(f\"The number {n} is Spy number\")\n",
    "else:\n",
    "    print(f\"The number {n} is not Spy number\")"
   ]
  },
  {
   "cell_type": "code",
   "execution_count": 7,
   "id": "c0bca396",
   "metadata": {},
   "outputs": [
    {
     "name": "stdout",
     "output_type": "stream",
     "text": [
      "The number 16 is not Perfect number\n"
     ]
    }
   ],
   "source": [
    "# 24.Wap to check the no. is perfect no. or not\n",
    "n=int(input(\"Enter The int num:\"))\n",
    "sum=0\n",
    "for i in range(1,n):\n",
    "    if n%i==0:\n",
    "        sum=sum+i\n",
    "if sum==n:\n",
    "    print(f\"The number {n} is Perfect number\")\n",
    "else:\n",
    "    print(f\"The number {n} is not Perfect number\")"
   ]
  },
  {
   "cell_type": "code",
   "execution_count": 12,
   "id": "5f3faa87",
   "metadata": {},
   "outputs": [
    {
     "name": "stdout",
     "output_type": "stream",
     "text": [
      "The number 3 is not Strong number\n"
     ]
    }
   ],
   "source": [
    "# 25.Wap to check the no. is a strong no. or not.\n",
    "n=int(input(\"Enter The int num:\"))\n",
    "sum=0\n",
    "a=n\n",
    "for i in str(n):\n",
    "    fact = 1\n",
    "    for j in range(1,int(i)+1):\n",
    "        fact = fact * int(j)\n",
    "    sum =sum + fact\n",
    "if sum==a:\n",
    "    print(f\"The number {n} is Strong number\")\n",
    "else:\n",
    "    print(f\"The number {n} is not Strong number\")"
   ]
  },
  {
   "cell_type": "code",
   "execution_count": null,
   "id": "092314ff",
   "metadata": {},
   "outputs": [],
   "source": [
    "# 26. WAP to check whether a number is Xylem or Phloem (using for loop)\n",
    "\n",
    "num = int(input(\"Enter the number: \"))\n",
    "s = str(num)\n",
    "\n",
    "first = int(s[0])         \n",
    "last = int(s[-1])         \n",
    "mean_sum = 0\n",
    "\n",
    "for i in range(1, len(s)-1):\n",
    "    mean_sum += int(s[i])\n",
    "\n",
    "ex_sum = first + last\n",
    "\n",
    "if mean_sum == ex_sum:\n",
    "    print(num, \"is a Xylem Number.\")\n",
    "else:\n",
    "    print(num, \"is a Phloem Number.\")\n"
   ]
  },
  {
   "cell_type": "code",
   "execution_count": 14,
   "id": "a4dcdb34",
   "metadata": {},
   "outputs": [
    {
     "name": "stdout",
     "output_type": "stream",
     "text": [
      "The list is :  ['hi', 0]\n"
     ]
    }
   ],
   "source": [
    "# 27.Create a list of n no. values provided by the user\n",
    "\n",
    "n=int(input(\"Enter the number of elements in the list:\"))\n",
    "l=[]\n",
    "for i in range(n):\n",
    "    val=eval(input(\"Enter value:\"))\n",
    "    l.append(val)\n",
    "print(\"The list is : \", l)\n"
   ]
  },
  {
   "cell_type": "code",
   "execution_count": 16,
   "id": "b54d74af",
   "metadata": {},
   "outputs": [
    {
     "name": "stdout",
     "output_type": "stream",
     "text": [
      "Even Count : 1\n",
      "Odd Count : 2\n"
     ]
    }
   ],
   "source": [
    "# 28.Given a list of numbers, count how many are even and how many are odd.\n",
    "n=eval(input(\"Enter the list of numbers:\"))\n",
    "even_count=0\n",
    "odd_count=0\n",
    "if type(n)==list:\n",
    "    for i in n:\n",
    "        if i%2==0:\n",
    "            even_count+=1\n",
    "        else:\n",
    "            odd_count+=1\n",
    "    print(\"Even Count :\",even_count)\n",
    "    print(\"Odd Count :\", odd_count)\n"
   ]
  },
  {
   "cell_type": "code",
   "execution_count": 18,
   "id": "50c19f67",
   "metadata": {},
   "outputs": [
    {
     "name": "stdout",
     "output_type": "stream",
     "text": [
      "h q w e r t y u i "
     ]
    }
   ],
   "source": [
    "# 29.Wap to print all the values of a collection (str, list, tuple)\n",
    "l=eval(input(\"Enter the collection :\"))\n",
    "for i in l:\n",
    "    print(i , end=\" \")\n"
   ]
  },
  {
   "cell_type": "code",
   "execution_count": 20,
   "id": "9a186203",
   "metadata": {},
   "outputs": [
    {
     "name": "stdout",
     "output_type": "stream",
     "text": [
      "String element in list are : r\n",
      "String element in list are : y\n"
     ]
    }
   ],
   "source": [
    "# 30.Wap to print the string values from a given a list\n",
    "st=eval(input(\"Enter the list of elements:\"))\n",
    "if type(st) == list:\n",
    "    for i in st:\n",
    "        if type(i) == str:\n",
    "            print(\"String element in list are :\",i)"
   ]
  },
  {
   "cell_type": "code",
   "execution_count": null,
   "id": "ec59b4b7",
   "metadata": {},
   "outputs": [
    {
     "name": "stdout",
     "output_type": "stream",
     "text": [
      "eye,madam,\n",
      "List is : ['eye', 'madam']\n"
     ]
    }
   ],
   "source": [
    "# 31.Wap to extract all the palindrome word from a given list\n",
    "\n",
    "#   s1 = [10,404,'hii',4.5,'eye',7-8j,'bye','madam',202]\n",
    "\n",
    "#   o/p= ['eye', 'madam']\n",
    "\n",
    "s1 = [10,404,'hii',4.5,'eye',7-8j,'bye','madam',202]\n",
    "l=[]\n",
    "for i in s1:\n",
    "    if type(i) == str:\n",
    "        if i == i[::-1]:\n",
    "            l.append(i)\n",
    "print(\"\\nList is :\",l)"
   ]
  },
  {
   "cell_type": "code",
   "execution_count": 25,
   "id": "f5a3e1a8",
   "metadata": {},
   "outputs": [
    {
     "name": "stdout",
     "output_type": "stream",
     "text": [
      "h,e,l,l,o,"
     ]
    }
   ],
   "source": [
    "# 32.Wap to print all the characters of a string\n",
    "st=input(\"enter the strings :\")\n",
    "for i in st:\n",
    "    print(i,end=\",\")"
   ]
  },
  {
   "cell_type": "code",
   "execution_count": 27,
   "id": "9b07478b",
   "metadata": {},
   "outputs": [
    {
     "name": "stdout",
     "output_type": "stream",
     "text": [
      "e,o,"
     ]
    }
   ],
   "source": [
    "# 33.Wap to print all vowels present in a word\n",
    "word=input(\"Enter the Words :\")\n",
    "for i in word:\n",
    "    if i in \"aeiouAEIOU\":\n",
    "        print(i,end=\",\")\n"
   ]
  },
  {
   "cell_type": "code",
   "execution_count": 28,
   "id": "a600f705",
   "metadata": {},
   "outputs": [
    {
     "name": "stdout",
     "output_type": "stream",
     "text": [
      "THe string values in the list are : ['hi', 'hello']\n"
     ]
    }
   ],
   "source": [
    "# 34.Wap to extract all the strings from a list.\n",
    "l=eval(input(\"Enter the list:\"))\n",
    "if type(l) == list:\n",
    "    sl=[]\n",
    "    for i in l:\n",
    "        if type(i) == str:\n",
    "            sl.append(i)\n",
    "print(\"THe string values in the list are :\",sl)\n"
   ]
  },
  {
   "cell_type": "code",
   "execution_count": 31,
   "id": "73e5a848",
   "metadata": {},
   "outputs": [
    {
     "name": "stdout",
     "output_type": "stream",
     "text": [
      "22,33,"
     ]
    }
   ],
   "source": [
    "# 35.Wap to extract all the palindrome no. from a list\n",
    "l=eval(input(\"Enter the list :\"))\n",
    "if type(l) == list:\n",
    "    for i in l:\n",
    "        if type(i)== int:\n",
    "            if str(i)==str(i)[::-1]:\n",
    "\n",
    "                print(i , end=\",\")\n",
    "                "
   ]
  },
  {
   "cell_type": "code",
   "execution_count": 33,
   "id": "80454468",
   "metadata": {},
   "outputs": [
    {
     "name": "stdout",
     "output_type": "stream",
     "text": [
      "(1, 3)\n"
     ]
    }
   ],
   "source": [
    "# 36.Wap to return a tuple containing n natural odd numbers\n",
    "n=eval(input(\"Enter the data :\"))\n",
    "t=[]\n",
    "for i in n:\n",
    "    if i%2==1:\n",
    "        t.append(i)\n",
    "    \n",
    "\n",
    "print(tuple(t))\n"
   ]
  },
  {
   "cell_type": "code",
   "execution_count": 35,
   "id": "1d443004",
   "metadata": {},
   "outputs": [
    {
     "name": "stdout",
     "output_type": "stream",
     "text": [
      "23456\n",
      "1\n",
      "67\n",
      "21\n"
     ]
    }
   ],
   "source": [
    "# 37.Wap to print all the values of a set\n",
    "n=eval(input(\"Enter the data :\"))\n",
    "if type(n) == set:\n",
    "    a=list(n)\n",
    "    for i in a:\n",
    "        print(i)\n",
    "else:\n",
    "    print(\"Not a set data type\")"
   ]
  },
  {
   "cell_type": "code",
   "execution_count": 37,
   "id": "a7d2f720",
   "metadata": {},
   "outputs": [
    {
     "name": "stdout",
     "output_type": "stream",
     "text": [
      "The float values in the set are : [4.5]\n"
     ]
    }
   ],
   "source": [
    "# 38.Wap to extract all the float values from a set and store in a list\n",
    "n=eval(input(\"Enter the data :\"))\n",
    "l=[]\n",
    "if type(n)== set:\n",
    "    a=list(n)\n",
    "    for i in a:\n",
    "        if type(i)== float:\n",
    "            l.append(i)\n",
    "else:\n",
    "    print(\"Not a set data type\")\n",
    "\n",
    "print(\"The float values in the set are :\",l)"
   ]
  },
  {
   "cell_type": "code",
   "execution_count": 39,
   "id": "08bf95f0",
   "metadata": {},
   "outputs": [
    {
     "name": "stdout",
     "output_type": "stream",
     "text": [
      "Toggle the string: ASDFGHad\n"
     ]
    }
   ],
   "source": [
    "# 39.Wap to toggle the string\n",
    "st = input(\"Enter the string : \")\n",
    "result = \"\"\n",
    "for i in st:\n",
    "    if i.isupper():\n",
    "        result += i.lower()\n",
    "    else:\n",
    "        result += i.upper()\n",
    "print(\"Toggle the string:\", result)\n"
   ]
  },
  {
   "cell_type": "code",
   "execution_count": null,
   "id": "b0354751",
   "metadata": {},
   "outputs": [
    {
     "name": "stdout",
     "output_type": "stream",
     "text": [
      "gigf"
     ]
    }
   ],
   "source": [
    "# 40.Wap to reverse the given word\n",
    "st=eval(input(\"Enter the word:\"))\n",
    "rev=\"\"\n",
    "for i in st:\n",
    "    rev=i+rev\n",
    "print(rev,end=\"\")"
   ]
  },
  {
   "cell_type": "code",
   "execution_count": 3,
   "id": "86ce80df",
   "metadata": {},
   "outputs": [
    {
     "name": "stdout",
     "output_type": "stream",
     "text": [
      "h l l S Q L "
     ]
    }
   ],
   "source": [
    "l=[2.33,False,'hello',11,'SQL']\n",
    "for i in l:\n",
    "    if type(i)==str:\n",
    "        for j in i:\n",
    "            if j not in 'aeiouAEIOU':\n",
    "                print(j ,end=\" \")"
   ]
  },
  {
   "cell_type": "code",
   "execution_count": 9,
   "id": "4f4615a7",
   "metadata": {},
   "outputs": [
    {
     "name": "stdout",
     "output_type": "stream",
     "text": [
      "2 24 "
     ]
    }
   ],
   "source": [
    "l=[2,4,\"hi\"]\n",
    "for i in l:\n",
    "    if type(i)==int:\n",
    "        fact=1\n",
    "        for i in range(1,i+1):\n",
    "            fact*=i\n",
    "        print(fact,end=\" \")"
   ]
  },
  {
   "cell_type": "code",
   "execution_count": 7,
   "id": "1bfad351",
   "metadata": {},
   "outputs": [
    {
     "name": "stdout",
     "output_type": "stream",
     "text": [
      "1201 132 "
     ]
    }
   ],
   "source": [
    "# Wap to extract the xylem numbers from a list\n",
    "\n",
    "# Xylem numbers from a list\n",
    "lst = [1201, 1251, 12321, 132, 452]\n",
    "for i in lst:\n",
    "    a=str(i)\n",
    "    f=a[0]\n",
    "    l=a[-1]\n",
    "    ex=int(a[0])+int(a[-1])\n",
    "    mean=0\n",
    "    for j in a[1:len(a)-1]:\n",
    "        mean= mean+int(j)\n",
    "    if mean==ex:\n",
    "        print(i,end=\" \")"
   ]
  },
  {
   "cell_type": "code",
   "execution_count": 10,
   "id": "be1cea52",
   "metadata": {},
   "outputs": [
    {
     "name": "stdout",
     "output_type": "stream",
     "text": [
      "6 28 496 "
     ]
    }
   ],
   "source": [
    "# Wap to extract all the perfect numbers from a tuple\n",
    "\n",
    "# Perfect numbers from a tuple\n",
    "tpl = (6, 28, 10, 15, 496, 12)\n",
    "for i in tpl:\n",
    "    num=i\n",
    "    divi_sum=0\n",
    "    for j in range(1,i):\n",
    "        if num%j==0:\n",
    "            divi_sum +=j\n",
    "    if divi_sum == num:\n",
    "        print(num,end=\" \")\n",
    "    "
   ]
  },
  {
   "cell_type": "code",
   "execution_count": 12,
   "id": "9c226ee3",
   "metadata": {},
   "outputs": [
    {
     "name": "stdout",
     "output_type": "stream",
     "text": [
      "153 370 371 407 "
     ]
    }
   ],
   "source": [
    "# Wap to extract all the Armstrong number from a given list.\n",
    "\n",
    "# Armstrong numbers from a given list\n",
    "lst = [153, 370, 371, 407, 100, 200, 123]\n",
    "for i in lst:\n",
    "    num=i\n",
    "    p=len(str(i))\n",
    "    sum=0\n",
    "    for j in str(i):\n",
    "        sum=sum+ int(j)**p\n",
    "    if sum==num:\n",
    "        print(num,end=\" \")"
   ]
  },
  {
   "cell_type": "code",
   "execution_count": 17,
   "id": "83cdcbcf",
   "metadata": {},
   "outputs": [
    {
     "name": "stdout",
     "output_type": "stream",
     "text": [
      "2\n",
      "3\n",
      "5\n",
      "11\n",
      "17\n"
     ]
    }
   ],
   "source": [
    "# Wap to extract all the prime numbers from a given list\n",
    "\n",
    "# Prime numbers from a given list\n",
    "# Prime numbers from a given list\n",
    "lst = [2, 3, 4, 5, 10, 11, 15, 17, 20]\n",
    "\n",
    "for i in lst:\n",
    "    if i <= 1:\n",
    "        continue  \n",
    "    is_prime = True\n",
    "    for j in range(2, i):\n",
    "        if i % j == 0:  \n",
    "            is_prime = False\n",
    "            break\n",
    "    if is_prime:\n",
    "        print(i)\n"
   ]
  },
  {
   "cell_type": "code",
   "execution_count": null,
   "id": "fb5aee73",
   "metadata": {},
   "outputs": [],
   "source": []
  }
 ],
 "metadata": {
  "kernelspec": {
   "display_name": "Python 3",
   "language": "python",
   "name": "python3"
  },
  "language_info": {
   "codemirror_mode": {
    "name": "ipython",
    "version": 3
   },
   "file_extension": ".py",
   "mimetype": "text/x-python",
   "name": "python",
   "nbconvert_exporter": "python",
   "pygments_lexer": "ipython3",
   "version": "3.13.1"
  }
 },
 "nbformat": 4,
 "nbformat_minor": 5
}
