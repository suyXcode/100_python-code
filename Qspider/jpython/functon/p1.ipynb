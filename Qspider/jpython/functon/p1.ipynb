{
 "cells": [
  {
   "cell_type": "code",
   "execution_count": null,
   "id": "114f62e0",
   "metadata": {},
   "outputs": [
    {
     "name": "stdout",
     "output_type": "stream",
     "text": [
      "Before: [10, 20, 30, 20, 40]\n",
      "After removing 20: [10, 30, 20, 40]\n"
     ]
    }
   ],
   "source": [
    "# Python’s built-in list.remove() — it removes the first occurrence of a given element from the list.\n",
    "def my_remove(lst, value):\n",
    "    for i in range(len(lst)):\n",
    "        if lst[i] == value:\n",
    "            del lst[i]\n",
    "            return  \n",
    "\n",
    "nums = [10, 20, 30, 20, 40]\n",
    "print(\"Before:\", nums)\n",
    "\n",
    "my_remove(nums, 20)\n",
    "print(\"After removing 20:\", nums)\n",
    "\n",
    "my_remove(nums, 100)  \\Qspider\\jpython\\functon"
   ]
  },
  {
   "cell_type": "code",
   "execution_count": null,
   "id": "6a074f57",
   "metadata": {},
   "outputs": [
    {
     "name": "stdout",
     "output_type": "stream",
     "text": [
      "Before: [10, 20, 30, 20, 40]\n",
      "After removing 20: [10, 30, 20, 40]\n"
     ]
    }
   ],
   "source": [
    "def my_remove(lst, value):\n",
    "    for i in range(len(lst)):\n",
    "        if lst[i] == value:\n",
    "            del lst[i]\n",
    "            return  \n",
    "\n",
    "nums = [10, 20, 30, 20, 40]\n",
    "print(\"Before:\", nums)\n",
    "\n",
    "my_remove(nums, 20)\n",
    "print(\"After removing 20:\", nums)\n",
    "\n",
    "my_remove(nums, 100)  "
   ]
  },
  {
   "cell_type": "code",
   "execution_count": null,
   "id": "fd73cf3c",
   "metadata": {},
   "outputs": [
    {
     "name": "stdout",
     "output_type": "stream",
     "text": [
      "[1, 2, 4]\n"
     ]
    }
   ],
   "source": [
    "def rem(l, a):\n",
    "    if type(l) not in (list, set):\n",
    "        print(\"Not Applicable\")\n",
    "        return\n",
    "\n",
    "    li = []\n",
    "    flag = False\n",
    "    for i in l:\n",
    "        if i == a and not flag:\n",
    "            flag = True\n",
    "            continue\n",
    "        li.append(i)\n",
    "    print(li)\n",
    "\n",
    "# Example\n",
    "rem([1, 2, 2, 4], 2)"
   ]
  },
  {
   "cell_type": "markdown",
   "id": "b1cbc845",
   "metadata": {},
   "source": [
    "# function with retrun argument\n",
    "\n",
    "**Syntax 👍** \n",
    "\n",
    "        def func_name():     # function definition\n",
    "            statement block            #function body\n",
    "            return None\n",
    "        \n",
    "        var = func_name()      #function calling\n",
    "        print(var)\n",
    "\n",
    "\n",
    "**Return**\n",
    "1. return keyword is used to return the values from  functional space to main space.\n",
    "2. It return the value with flow to the place where it is called .\n",
    "3. We can return multiple values with the help of return keyword in form of tuple .\n",
    "4. It will not execute any statement written under the return keyword.\n",
    "5. it works as like break keyword to terminate the flow of program .\n",
    "    a. break is use in looping and not retruns values.\n",
    "    b. return is use in function and return some values.\n",
    "6. \n"
   ]
  },
  {
   "cell_type": "code",
   "execution_count": 10,
   "id": "0adbe97a",
   "metadata": {},
   "outputs": [
    {
     "name": "stdout",
     "output_type": "stream",
     "text": [
      "1\n",
      "None\n"
     ]
    }
   ],
   "source": [
    "def main():\n",
    "    print(1)\n",
    "    \n",
    "val = main()\n",
    "print(val)"
   ]
  },
  {
   "cell_type": "code",
   "execution_count": 15,
   "id": "0aa9d9a5",
   "metadata": {},
   "outputs": [
    {
     "name": "stdout",
     "output_type": "stream",
     "text": [
      "odd\n"
     ]
    }
   ],
   "source": [
    "def o_e():\n",
    "    num = int(input(\"Enter the num :\"))\n",
    "    if num%2==0:\n",
    "        return \"even\"\n",
    "    \n",
    "    return \"odd\"\n",
    "print(o_e())"
   ]
  },
  {
   "cell_type": "code",
   "execution_count": null,
   "id": "4810814d",
   "metadata": {},
   "outputs": [],
   "source": [
    "def o_e():\n",
    "    num = int(input(\"Enter the num :\"))\n",
    "    if num%2==0:\n",
    "        return \"even\"\n",
    "    else :\n",
    "        return \"odd\"\n",
    "print(o_e())"
   ]
  },
  {
   "cell_type": "code",
   "execution_count": 16,
   "id": "d4ba769f",
   "metadata": {},
   "outputs": [
    {
     "name": "stdout",
     "output_type": "stream",
     "text": [
      "True\n"
     ]
    }
   ],
   "source": [
    "def o_e():\n",
    "    num = int(input(\"Enter the num :\"))\n",
    "    return num%2==0\n",
    "print(o_e())"
   ]
  },
  {
   "cell_type": "markdown",
   "id": "97530eb5",
   "metadata": {},
   "source": [
    "# function with return and with parameter\n",
    "\n",
    " def func_name(parameters):     # function definition\n",
    "            statement block            #function body\n",
    "            return values,values1\n",
    "        \n",
    "        var = func_name(argument)      #function calling\n",
    "        print(var)"
   ]
  },
  {
   "cell_type": "code",
   "execution_count": 17,
   "id": "7e49fbea",
   "metadata": {},
   "outputs": [
    {
     "name": "stdout",
     "output_type": "stream",
     "text": [
      "True\n"
     ]
    }
   ],
   "source": [
    "def o_e(num):\n",
    "    \n",
    "    return num%2==0\n",
    "print(o_e(int(input(\"Enter the num :\"))))"
   ]
  },
  {
   "cell_type": "code",
   "execution_count": 20,
   "id": "3c29f0fd",
   "metadata": {},
   "outputs": [
    {
     "name": "stdout",
     "output_type": "stream",
     "text": [
      "Palindrome : True\n"
     ]
    }
   ],
   "source": [
    "def is_p():\n",
    "    num=int(input(\"Enter the number :\"))\n",
    "    a=str(num)\n",
    "    return a == a[::-1]\n",
    "\n",
    "print(\"Palindrome :\",is_p())"
   ]
  },
  {
   "cell_type": "code",
   "execution_count": null,
   "id": "f485b43e",
   "metadata": {},
   "outputs": [
    {
     "name": "stdout",
     "output_type": "stream",
     "text": [
      "Palindrome : True\n"
     ]
    }
   ],
   "source": [
    "def is_p(num):\n",
    "    a=str(num)\n",
    "    return a == a[::-1]\n",
    "\n",
    "print(\"Palindrome :\",is_p(int(input(\"Enter the number :\"))))"
   ]
  },
  {
   "cell_type": "code",
   "execution_count": 24,
   "id": "1afc2e9d",
   "metadata": {},
   "outputs": [
    {
     "name": "stdout",
     "output_type": "stream",
     "text": [
      "1\n",
      "Palindrome : [1]\n"
     ]
    }
   ],
   "source": [
    "def is_p(l):\n",
    "    l2=[]\n",
    "    for i in l:\n",
    "        if type(i) == int:\n",
    "            if i%2!=2:\n",
    "                \n",
    "                if str(i) == str(i)[::-1]:\n",
    "                    l2.append(i)\n",
    "                    print(i)\n",
    "                    return l2\n",
    "\n",
    "print(\"Palindrome :\",is_p(eval(input(\"Enter the list :\"))))"
   ]
  },
  {
   "cell_type": "code",
   "execution_count": null,
   "id": "f0b7610f",
   "metadata": {},
   "outputs": [],
   "source": []
  }
 ],
 "metadata": {
  "kernelspec": {
   "display_name": "Python 3",
   "language": "python",
   "name": "python3"
  },
  "language_info": {
   "codemirror_mode": {
    "name": "ipython",
    "version": 3
   },
   "file_extension": ".py",
   "mimetype": "text/x-python",
   "name": "python",
   "nbconvert_exporter": "python",
   "pygments_lexer": "ipython3",
   "version": "3.13.1"
  }
 },
 "nbformat": 4,
 "nbformat_minor": 5
}
