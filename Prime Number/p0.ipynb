{
 "cells": [
  {
   "cell_type": "markdown",
   "id": "20a9fecc",
   "metadata": {},
   "source": [
    "Prime Numbers\n",
    "A prime number is a natural number greater than 1 that is not a product of two smaller natural numbers. A natural number greater than 1 that is not prime is called a composite number. For example, 5 is prime because the only ways of writing it as a product, 1 × 5 or 5 × 1, involve 5 itself.\n",
    "\n",
    "\n",
    "Method 1: Using inner loop Range as [2, number-1].\n",
    "Method 2: Using inner loop Range as [2, number/2].\n",
    "Method 3: Using inner loop Range as [2, sqrt(number)].\n",
    "Method 4: Using inner loop Range as [3, sqrt(number), 2].\n",
    "\n",
    "\n",
    "\n",
    "Method 1: Using inner loop Range as [2, number-1]\n",
    "\n",
    "Working\n",
    "\n",
    "        1. For two integer inputs as low and high limits of the interval,\n",
    "   \n",
    "        2. Run a for loop to iterate through all the numbers.\n",
    "   \n",
    "        3. Run a Nested for loop to check for prime or not."
   ]
  },
  {
   "cell_type": "code",
   "execution_count": 2,
   "id": "6fdb17c2",
   "metadata": {},
   "outputs": [
    {
     "name": "stdout",
     "output_type": "stream",
     "text": [
      "[2, 3, 5, 7]\n"
     ]
    }
   ],
   "source": [
    "# python find prime numbers in range \n",
    "low, high = 2, 10\n",
    "primes = []\n",
    "\n",
    "for i in range(low, high + 1):\n",
    "    flag = 0\n",
    "\n",
    "    if i < 2:\n",
    "        continue\n",
    "    if i == 2:\n",
    "        primes.append(2)\n",
    "        continue\n",
    "\n",
    "    for x in range(2, i):\n",
    "        if i % x == 0:\n",
    "            flag = 1\n",
    "            break\n",
    "\n",
    "    if flag == 0:\n",
    "        primes.append(i)\n",
    "        \n",
    "print(primes)"
   ]
  },
  {
   "cell_type": "markdown",
   "id": "fe68c2a8",
   "metadata": {},
   "source": [
    "Method 2: Using inner loop Range as [2, number/2]\n",
    "Working\n",
    "For two integer inputs as limits, we perform the following main operations,\n",
    "\n",
    "     1.  Run a for loop to iterate through the numbers in a given interval.\n",
    "     2.  Run a nested while to check for prime by checking if the number has any other factors in the range [2, number/2]."
   ]
  },
  {
   "cell_type": "code",
   "execution_count": 3,
   "id": "0081e89e",
   "metadata": {},
   "outputs": [
    {
     "name": "stdout",
     "output_type": "stream",
     "text": [
      "[2, 3, 5, 7]\n"
     ]
    }
   ],
   "source": [
    "low, high = 2, 10\n",
    "primes = [2]\n",
    "\n",
    "for num in range(low, high + 1):\n",
    "    flag = 0\n",
    "    if num < 2:\n",
    "        flag = 1\n",
    "        \n",
    "    if num % 2 == 0:\n",
    "        continue\n",
    "    iter = 2\n",
    "\n",
    "    while iter < int(num / 2):\n",
    "        if num % iter == 0:\n",
    "            flag = 1\n",
    "            break\n",
    "        iter += 1\n",
    "\n",
    "    if flag == 0:\n",
    "        primes.append(num)\n",
    "\n",
    "print(primes)"
   ]
  },
  {
   "cell_type": "markdown",
   "id": "092256b8",
   "metadata": {},
   "source": [
    "Method 3: Using inner loop Range as [2, sqrt(number)]\n",
    "Working\n",
    "For two integer inputs as low and high limits of the interval, we perform the following\n",
    "\n",
    "     1.  Run a for loop to iterate through the number in the given interval.\n",
    "     2.  Run a nested while loop to check for prime or not.\n",
    "     3.  We do so by checking if the number has any factors in the range [2, sqrt(number)]."
   ]
  },
  {
   "cell_type": "code",
   "execution_count": 4,
   "id": "ee233016",
   "metadata": {},
   "outputs": [
    {
     "name": "stdout",
     "output_type": "stream",
     "text": [
      "[2, 3, 5, 7]\n"
     ]
    }
   ],
   "source": [
    "low, high = 2, 10\n",
    "primes = [2, 3]\n",
    "\n",
    "for num in range(low, high + 1):\n",
    "    flag = 0\n",
    "    \n",
    "    if num < 2:\n",
    "        flag = 1\n",
    "        \n",
    "    if num % 2 == 0:\n",
    "        continue\n",
    "        \n",
    "    if num % 3 == 0:\n",
    "        continue\n",
    "        \n",
    "    iter = 2\n",
    "    while iter < int(pow(num, 0.5)):\n",
    "        if num % iter == 0:\n",
    "            flag = 1\n",
    "            break\n",
    "        iter += 1\n",
    "        \n",
    "    if flag == 0:\n",
    "        primes.append(num)\n",
    "\n",
    "print(primes)"
   ]
  },
  {
   "cell_type": "markdown",
   "id": "23fbf5f4",
   "metadata": {},
   "source": [
    "Method 4: Using inner loop Range as [3, sqrt(number), 2]\n",
    "Working\n",
    "This method is similar to the one above but here we’ll use 2 as a step to skip the even numbers.\n",
    "\n",
    "For a given interval as [low, high], we do the following\n",
    "\n",
    "      1. Run a for loop to iterate through the numbers that lay in the input interval.\n",
    "      2. Run a nest while eith step size as 2 from 3 to the square root of number and check for factors of the number in that interval.\n"
   ]
  },
  {
   "cell_type": "code",
   "execution_count": 5,
   "id": "999d112a",
   "metadata": {},
   "outputs": [
    {
     "name": "stdout",
     "output_type": "stream",
     "text": [
      "[2, 3, 5, 7]\n"
     ]
    }
   ],
   "source": [
    "low, high = 2, 10\n",
    "primes = [2, 3]\n",
    "\n",
    "for num in range(low, high + 1):\n",
    "    flag = 0\n",
    "    if num < 2:\n",
    "        flag = 1\n",
    "\n",
    "    if num % 2 == 0:\n",
    "        continue\n",
    "        \n",
    "    if num % 3 == 0:\n",
    "        continue\n",
    "\n",
    "    iter = 3\n",
    "\n",
    "    while iter < int(pow(num, 0.5)):\n",
    "        if num % iter == 0:\n",
    "            flag = 1\n",
    "            break\n",
    "        iter += 2\n",
    "\n",
    "    if flag == 0:\n",
    "        primes.append(num)\n",
    "\n",
    "print(primes)"
   ]
  },
  {
   "cell_type": "code",
   "execution_count": null,
   "id": "cdfd363c",
   "metadata": {},
   "outputs": [],
   "source": []
  }
 ],
 "metadata": {
  "kernelspec": {
   "display_name": "Python 3",
   "language": "python",
   "name": "python3"
  },
  "language_info": {
   "codemirror_mode": {
    "name": "ipython",
    "version": 3
   },
   "file_extension": ".py",
   "mimetype": "text/x-python",
   "name": "python",
   "nbconvert_exporter": "python",
   "pygments_lexer": "ipython3",
   "version": "3.13.1"
  }
 },
 "nbformat": 4,
 "nbformat_minor": 5
}
