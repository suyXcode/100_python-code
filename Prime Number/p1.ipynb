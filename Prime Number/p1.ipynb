{
 "cells": [
  {
   "cell_type": "markdown",
   "id": "aaaeb168",
   "metadata": {},
   "source": [
    "Check Whether a Number is a Prime or Not\n",
    "Given an integer input for a number, the objective is to check whether or not the number is a prime. In order to do so we keep checking with all the numbers until square root of the number itself for factors of the number input. If found any, the number is not a prime. Here are some of the methods given to solve the above mentioned problem in python language,\n",
    "\n",
    "        Method 1: Simple iterative solution\n",
    "        Method 2: Optimization by break condition\n",
    "        Method 3: Optimization by n/2 iterations\n",
    "        Method 4: Optimization by √n\n",
    "        Method 5: Optimization by skipping even iteration\n",
    "         Method 6: Basic Recursion technique"
   ]
  },
  {
   "cell_type": "markdown",
   "id": "906b9260",
   "metadata": {},
   "source": [
    "Method 1: Simple iterative solution\n",
    "Working\n",
    "In this method we’ll use simple if-else statements and for loop to iterate though all the number in a given range while checking for factors of the number.\n",
    "\n",
    "For a given integer input we check,\n",
    "\n",
    "        If the number is greater than 2.\n",
    "        If the number has any factors in the range [2,number].\n",
    "        If any off the above conditions are satisfied, the number isn’t a Prime."
   ]
  },
  {
   "cell_type": "code",
   "execution_count": 2,
   "id": "bd936fc4",
   "metadata": {},
   "outputs": [
    {
     "name": "stdout",
     "output_type": "stream",
     "text": [
      "Not Prime\n"
     ]
    }
   ],
   "source": [
    "num = 15\n",
    "flag = 0\n",
    "for i in range(2,num):\n",
    "    if num%i==0:\n",
    "        flag = 1\n",
    "        break\n",
    "if flag == 1:\n",
    "    print('Not Prime')\n",
    "else:\n",
    "    print(\"Prime\")"
   ]
  },
  {
   "cell_type": "markdown",
   "id": "0dcdd3d6",
   "metadata": {},
   "source": [
    "Method 2: Optimization by break condition"
   ]
  },
  {
   "cell_type": "code",
   "execution_count": 3,
   "id": "34d4cb3c",
   "metadata": {},
   "outputs": [
    {
     "name": "stdout",
     "output_type": "stream",
     "text": [
      "Not Prime\n"
     ]
    }
   ],
   "source": [
    "num = 15\n",
    "flag = 0\n",
    "if num<2:\n",
    "  flag = 1\n",
    "else:\n",
    "  for i in range(2,num):\n",
    "    if num%i==0:\n",
    "      flag = 1\n",
    "      break\n",
    "\n",
    "if flag == 1:\n",
    "  print('Not Prime')\n",
    "else:\n",
    "  print(\"Prime\")"
   ]
  },
  {
   "cell_type": "markdown",
   "id": "1be3f2e4",
   "metadata": {},
   "source": [
    "Method 3: Optimization by n/2 iterations\n",
    "Working\n",
    "In this method we’ll check if the number input have any factors within the range of 2 to number/2. Any number has it’s lowest factor after 1 if any, in the range[2,number/2].\n",
    "\n",
    "For a given integer input we check for the following,\n",
    "\n",
    "        1. If the number input has factors in the range [2, number/2]. It’s not a Prime of the above condition is true."
   ]
  },
  {
   "cell_type": "code",
   "execution_count": 4,
   "id": "b5f8dcaf",
   "metadata": {},
   "outputs": [
    {
     "name": "stdout",
     "output_type": "stream",
     "text": [
      "Not Prime\n"
     ]
    }
   ],
   "source": [
    "num = 15\n",
    "flag = 0\n",
    "if num<2:\n",
    "  flag = 1\n",
    "else:\n",
    "  for i in range(2,int((num/2)+1)):\n",
    "    if num%i==0:\n",
    "      flag = 1\n",
    "      break\n",
    "\n",
    "if flag == 1:\n",
    "  print('Not Prime')\n",
    "else:\n",
    "  print(\"Prime\")"
   ]
  },
  {
   "cell_type": "markdown",
   "id": "26b4fb2c",
   "metadata": {},
   "source": [
    "# Method 4: Optimization by √n\n",
    "** Working ** \n",
    "In this method we’ll run the loop until the square root of the given number input as all the smallest factor of any number if any, lay in the interval [0, sqrt(number)]. Therefore, we’ll check for the factors within the above mentioned interval.\n",
    "\n",
    "For the given input integer we check for the following,\n",
    "\n",
    "        If the number is divisible by  any number in the interval [2,sqrt(number)], if so then it’s not a prime."
   ]
  },
  {
   "cell_type": "code",
   "execution_count": 5,
   "id": "d3d4ae03",
   "metadata": {},
   "outputs": [
    {
     "name": "stdout",
     "output_type": "stream",
     "text": [
      "Prime\n"
     ]
    }
   ],
   "source": [
    "num = 7\n",
    "flag = 0\n",
    "if num<2:\n",
    "  flag = 1\n",
    "else:\n",
    "  for i in range(2,int(pow(num,0.5)+1)):\n",
    "    if num%i==0:\n",
    "      flag = 1\n",
    "      break\n",
    "\n",
    "if flag == 1:\n",
    "  print('Not Prime')\n",
    "else:\n",
    "  print(\"Prime\")"
   ]
  },
  {
   "cell_type": "markdown",
   "id": "ece8640c",
   "metadata": {},
   "source": [
    "# Method 5: Optimization by skipping even iteration\n",
    "Working\n",
    "In this method we’ll skip the even iterations as any even number can’t be a Prime. This way we’ll reduce the comparisons by 50%. To do so we’ll increase the step to +1.\n",
    "\n",
    "For a given integer input we check for,\n",
    "\n",
    "        If the number is 2 as two is the only even prime.\n",
    "        Check every other number until square root of the number input looking for it’s factors."
   ]
  },
  {
   "cell_type": "code",
   "execution_count": 6,
   "id": "8d2c49ab",
   "metadata": {},
   "outputs": [
    {
     "name": "stdout",
     "output_type": "stream",
     "text": [
      "Not Prime\n"
     ]
    }
   ],
   "source": [
    "num = 15\n",
    "flag = 0\n",
    "if num<2:\n",
    "  flag = 1\n",
    "elif num == 2:\n",
    "  flag = 0\n",
    "else:\n",
    "  for i in range(3,int(pow(num,0.5)+1),2):\n",
    "    if num%i==0:\n",
    "      flag = 1\n",
    "      break\n",
    "\n",
    "if flag == 1:\n",
    "  print('Not Prime')\n",
    "else:\n",
    "  print(\"Prime\")"
   ]
  },
  {
   "cell_type": "markdown",
   "id": "10b51b9d",
   "metadata": {},
   "source": [
    "# Method 6: Basic Recursion technique\n",
    "Working\n",
    "In this method we use the concept of recursion, to know more about recursion check out recursion in python.\n",
    "\n",
    "For the given integer input we perform the following\n",
    "\n",
    "    Declare a recursive function checkPrime() with base cases as follows\n",
    "            if number == iter, return True.\n",
    "            if number < 2, return False.\n",
    "            if number % iter == 0, return False.\n",
    "    Set the Recursive step call as checkPrime(number,iter+1)."
   ]
  },
  {
   "cell_type": "code",
   "execution_count": 7,
   "id": "6ce5bd71",
   "metadata": {},
   "outputs": [
    {
     "name": "stdout",
     "output_type": "stream",
     "text": [
      "Not Prime\n"
     ]
    }
   ],
   "source": [
    "num = 15\n",
    "def checkPrime(num,iter=2):\n",
    "  if num == iter:\n",
    "    return True\n",
    "  if num%iter==0:\n",
    "    return False\n",
    "  if num<2:\n",
    "    return False\n",
    "  return checkPrime(num,iter+1)\n",
    "if checkPrime(num)==True:\n",
    "  print(\"Prime\")\n",
    "else:\n",
    "  print(\"Not Prime\")"
   ]
  },
  {
   "cell_type": "code",
   "execution_count": null,
   "id": "1ac11efd",
   "metadata": {},
   "outputs": [],
   "source": []
  }
 ],
 "metadata": {
  "kernelspec": {
   "display_name": "Python 3",
   "language": "python",
   "name": "python3"
  },
  "language_info": {
   "codemirror_mode": {
    "name": "ipython",
    "version": 3
   },
   "file_extension": ".py",
   "mimetype": "text/x-python",
   "name": "python",
   "nbconvert_exporter": "python",
   "pygments_lexer": "ipython3",
   "version": "3.13.1"
  }
 },
 "nbformat": 4,
 "nbformat_minor": 5
}
